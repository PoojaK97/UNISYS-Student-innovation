{
 "cells": [
  {
   "cell_type": "code",
   "execution_count": 2,
   "metadata": {},
   "outputs": [],
   "source": [
    "import json\n",
    "with open(\"all_v1.json\", \"r\") as file:\n",
    "    data = json.load(file)"
   ]
  },
  {
   "cell_type": "code",
   "execution_count": 4,
   "metadata": {},
   "outputs": [
    {
     "data": {
      "text/plain": [
       "{'FLESCH_KINCAID': -3.4,\n",
       " 'SYLLABLES': 1.0,\n",
       " 'COMPLEXWORDS': 0.0,\n",
       " 'CHARACTERS': 4.0,\n",
       " 'SENTENCES': 1.0,\n",
       " 'FLESCH_READING': 121.22,\n",
       " 'GUNNING_FOG': 0.4,\n",
       " 'WORDS': 1.0,\n",
       " 'COLEMAN_LIAU': -22.24,\n",
       " 'ARI': -2.09,\n",
       " 'SMOG_INDEX': 3.0,\n",
       " 'SMOG': 3.129}"
      ]
     },
     "execution_count": 4,
     "metadata": {},
     "output_type": "execute_result"
    }
   ],
   "source": [
    "#Test API\n",
    "\n",
    "import requests\n",
    "headers = {\n",
    "    'X-RapidAPI-Host': 'ipeirotis-readability-metrics.p.rapidapi.com',\n",
    "    'X-RapidAPI-Key': 'f9ubYNvChSmsh7ziUqOiramFPcBnp1UxuM2jsnCqrPp4oiO7Dw'\n",
    "}\n",
    "r = requests.post(\"https://ipeirotis-readability-metrics.p.rapidapi.com/getReadabilityMetrics\", headers=headers, data={\"text\":\"test\"})\n",
    "response = r.json()\n",
    "response"
   ]
  },
  {
   "cell_type": "code",
   "execution_count": 5,
   "metadata": {},
   "outputs": [],
   "source": [
    "# Extractive summarization\n",
    "\n",
    "import re\n",
    "from sumy.nlp.stemmers import Stemmer\n",
    "from sumy.nlp.tokenizers import Tokenizer\n",
    "from sumy.parsers.plaintext import PlaintextParser\n",
    "from sumy.summarizers.kl import KLSummarizer\n",
    "from sumy.summarizers.lsa import LsaSummarizer\n",
    "from sumy.summarizers.text_rank import TextRankSummarizer\n",
    "import string\n",
    "import unidecode\n",
    "import json\n",
    "from bs4 import BeautifulSoup\n",
    "import requests\n",
    "LANGUAGE = 'english'\n",
    "SENTENCES_COUNT = 15\n",
    "clause = re.compile(\"(will)|(agree)|(must)|(responsib)|(waive)|(lawsuit)|(modify)|(intellec)\", re.IGNORECASE)\n",
    "host_reg = re.compile('(?:http.*://)?(?P<host>[^:/ ]+).?(?P<port>[0-9]*).*')\n",
    "terms_page = re.compile(r\"(terms *(((and|&)? *conditions)|((of)? ?(service|use))))\", re.IGNORECASE)\n",
    "HTML_OPEN = \"<div id='mainPopup'>\"\n",
    "YOU_AGREE_HEADER = \"<div id='youAgree' class='header'>What You Agree</div>\"\n",
    "THEY_AGREE_HEADER = \"<div id='theyAgree' class='header'>What They Agree</div>\"\n",
    "OTHER_HEADER = \"<div id='other' class='header'>Other Clauses</div>\"\n",
    "\n",
    "def prepare_for_regex(input_str, delimiter=\".\"):\n",
    "    pure_sentences = input_str.strip().split(delimiter)\n",
    "    if pure_sentences[-1] == \"\":\n",
    "        pure_sentences.pop()\n",
    "\n",
    "    # Remove leading/trailing whitespace and end with period.\n",
    "    for i, x in enumerate(pure_sentences):\n",
    "        pure_sentences[i] = x.strip() + \".\"\n",
    "\n",
    "    clean_sentences = []\n",
    "    for x in pure_sentences:\n",
    "        clean_sentences.append(' '.join(x.lower().translate(str.maketrans({key: None for key in string.punctuation})).split()))\n",
    "    return clean_sentences, pure_sentences"
   ]
  },
  {
   "cell_type": "code",
   "execution_count": 6,
   "metadata": {},
   "outputs": [],
   "source": [
    "link = \"https://www.tech.gov.sg/privacy/\"\n",
    "r = requests.get(link)\n",
    "html_soup = BeautifulSoup(r.text, \"html.parser\")\n",
    "text = html_soup.text\n",
    "        \n",
    "text_data = unidecode.unidecode(text)\n",
    "clean_list, pure_list = prepare_for_regex(text_data)\n",
    "\n",
    "data_to_summarize = []\n",
    "for clean, pure in zip(clean_list, pure_list):\n",
    "    if re.findall(clause, clean):\n",
    "        data_to_summarize.append(pure)\n",
    "text_data = \" \".join(data_to_summarize)\n",
    "parser = PlaintextParser(text_data, Tokenizer(LANGUAGE))\n",
    "stemmer = Stemmer(LANGUAGE)\n",
    "summarizer = TextRankSummarizer(stemmer)\n",
    "\n",
    "summary = summarizer(parser.document, SENTENCES_COUNT)"
   ]
  },
  {
   "cell_type": "code",
   "execution_count": 7,
   "metadata": {},
   "outputs": [
    {
     "data": {
      "text/plain": [
       "(<Sentence: Most web browsers automatically accept cookies, but you can usually modify your browser setting to decline cookies if you prefer.>,\n",
       " <Sentence: (b) We will NOT share your Personal Data with non-Government entities, except where such entities have been authorised to carry out specific Government services.>,\n",
       " <Sentence: This will speed up the transaction and save you the trouble of repeating previous submissions.>,\n",
       " <Sentence: We are not responsible for the content and privacy practices of these other websites and encourage you to consult the privacy notices of those sites.>)"
      ]
     },
     "execution_count": 7,
     "metadata": {},
     "output_type": "execute_result"
    }
   ],
   "source": [
    "summary"
   ]
  },
  {
   "cell_type": "code",
   "execution_count": 8,
   "metadata": {},
   "outputs": [],
   "source": [
    "import spacy\n",
    "from spacy import displacy\n",
    "\n",
    "nlp = spacy.load(\"en_core_web_sm\")\n",
    "sentences = [str(sentence) for sentence in summary]"
   ]
  },
  {
   "cell_type": "code",
   "execution_count": 9,
   "metadata": {},
   "outputs": [
    {
     "data": {
      "text/html": [
       "Most web browsers automatically <mark class=\"entity\" style=\"background: #ffffb3; padding: 0.2em 0.2em; line-height: 1; border-radius: 0.35em; box-decoration-break: clone; -webkit-box-decoration-break: clone\"> accept</mark> cookies, but you can usually <mark class=\"entity\" style=\"background: #ffffb3; padding: 0.2em 0.2em; line-height: 1; border-radius: 0.35em; box-decoration-break: clone; -webkit-box-decoration-break: clone\"> modify</mark> your browser <mark class=\"entity\" style=\"background: #ffffb3; padding: 0.2em 0.2em; line-height: 1; border-radius: 0.35em; box-decoration-break: clone; -webkit-box-decoration-break: clone\"> setting</mark> to <mark class=\"entity\" style=\"background: #ffffb3; padding: 0.2em 0.2em; line-height: 1; border-radius: 0.35em; box-decoration-break: clone; -webkit-box-decoration-break: clone\"> decline</mark> cookies if you <mark class=\"entity\" style=\"background: #ffffb3; padding: 0.2em 0.2em; line-height: 1; border-radius: 0.35em; box-decoration-break: clone; -webkit-box-decoration-break: clone\"> prefer</mark>. <br><br>( b) We will NOT <mark class=\"entity\" style=\"background: #ffffb3; padding: 0.2em 0.2em; line-height: 1; border-radius: 0.35em; box-decoration-break: clone; -webkit-box-decoration-break: clone\"> share</mark> your <mark class=\"entity\" style=\"background: #ccffcc; padding: 0.45em 0.6em; margin: 0 0.25em; line-height: 1; border-radius: 0.35em; box-decoration-break: clone; -webkit-box-decoration-break: clone\"> Personal Data <span style=\"font-size: 0.8em; font-weight: bold; line-height: 1; border-radius: 0.35em; text-transform: uppercase; vertical-align: middle; margin-left: 0.5rem\">ORG</span></mark>  with non- Government entities, except where such entities have been <mark class=\"entity\" style=\"background: #ffffb3; padding: 0.2em 0.2em; line-height: 1; border-radius: 0.35em; box-decoration-break: clone; -webkit-box-decoration-break: clone\"> authorised</mark> to <mark class=\"entity\" style=\"background: #ffffb3; padding: 0.2em 0.2em; line-height: 1; border-radius: 0.35em; box-decoration-break: clone; -webkit-box-decoration-break: clone\"> carry</mark> out specific Government services. <br><br>This will <mark class=\"entity\" style=\"background: #ffffb3; padding: 0.2em 0.2em; line-height: 1; border-radius: 0.35em; box-decoration-break: clone; -webkit-box-decoration-break: clone\"> speed</mark> up the transaction and <mark class=\"entity\" style=\"background: #ffffb3; padding: 0.2em 0.2em; line-height: 1; border-radius: 0.35em; box-decoration-break: clone; -webkit-box-decoration-break: clone\"> save</mark> you the trouble of <mark class=\"entity\" style=\"background: #ffffb3; padding: 0.2em 0.2em; line-height: 1; border-radius: 0.35em; box-decoration-break: clone; -webkit-box-decoration-break: clone\"> repeating</mark> previous submissions. <br><br>We are not responsible for the content and privacy practices of these other websites and <mark class=\"entity\" style=\"background: #ffffb3; padding: 0.2em 0.2em; line-height: 1; border-radius: 0.35em; box-decoration-break: clone; -webkit-box-decoration-break: clone\"> encourage</mark> you to <mark class=\"entity\" style=\"background: #ffffb3; padding: 0.2em 0.2em; line-height: 1; border-radius: 0.35em; box-decoration-break: clone; -webkit-box-decoration-break: clone\"> consult</mark> the privacy notices of those sites. "
      ],
      "text/plain": [
       "<IPython.core.display.HTML object>"
      ]
     },
     "metadata": {},
     "output_type": "execute_result"
    }
   ],
   "source": [
    "from IPython.core.display import HTML,display\n",
    "all_sentences = []\n",
    "for sent in sentences:\n",
    "    cleanr = re.compile('<.*?>|&([a-z0-9]+|#[0-9]{1,6}|#x[0-9a-f]{1,6});')\n",
    "    sent = re.sub(cleanr, '', sent)\n",
    "    sent = nlp(sent)\n",
    "    sentence = \"\"\n",
    "    entities = []\n",
    "    for token in sent:\n",
    "        if sentence and token.text.strip() not in string.punctuation:\n",
    "            sentence += \" \"\n",
    "        if token.pos_ == \"VERB\":\n",
    "            sentence += '''<mark class=\"entity\" style=\"background: #ffffb3; padding: 0.2em 0.2em; line-height: 1; border-radius: 0.35em; box-decoration-break: clone; -webkit-box-decoration-break: clone\"> {}</mark>'''.format(token.text)\n",
    "            entities.append(token.text)\n",
    "        else:\n",
    "            sentence += token.text\n",
    "    sentence = sentence[:-1] + \". \"\n",
    "    for ent in sent.ents:\n",
    "        if ent.text not in entities and ent.label_ == \"ORG\":\n",
    "            sentence = sentence.replace(ent.text, '''<mark class=\"entity\" style=\"background: #ccffcc; padding: 0.45em 0.6em; margin: 0 0.25em; line-height: 1; border-radius: 0.35em; box-decoration-break: clone; -webkit-box-decoration-break: clone\"> {} <span style=\"font-size: 0.8em; font-weight: bold; line-height: 1; border-radius: 0.35em; text-transform: uppercase; vertical-align: middle; margin-left: 0.5rem\">ORG</span></mark> '''.format(ent.text))\n",
    "            entities.append(ent.text)\n",
    "    all_sentences.append(sentence)\n",
    "display(HTML(\"<br><br>\".join(all_sentences)))"
   ]
  },
  {
   "cell_type": "code",
   "execution_count": null,
   "metadata": {},
   "outputs": [],
   "source": [
    "#Scraping script\n",
    "\n",
    "import requests\n",
    "from bs4 import BeautifulSoup\n",
    "r = requests.get(\"https://tosdr.org/index.html#\")\n",
    "soup = BeautifulSoup(r.text, \"html.parser\")\n",
    "spans = soup.findAll(\"div\", class_=\"span6\")\n",
    "data = []\n",
    "classi = {\n",
    "    \"badge-warning\": -1,\n",
    "    \"badge-neutral\": 0,\n",
    "    \"badge-success\": 1,\n",
    "    \"badge-important\": -1\n",
    "}\n",
    "for span in spans:\n",
    "    for item in span.findAll(\"li\"):\n",
    "        classification = item.span['class']\n",
    "        classification.remove('badge')\n",
    "        text = item.text[2:]\n",
    "        data.append({\n",
    "            \"text\": text,\n",
    "            \"rating\": classi[classification[0]]\n",
    "        })\n",
    "with open(\"sentiment_data.json\", \"w\") as file:\n",
    "    json.dump(data, file)"
   ]
  },
  {
   "cell_type": "code",
   "execution_count": 13,
   "metadata": {},
   "outputs": [
    {
     "data": {
      "text/plain": [
       "{'complexity_score': 0.11855670103092783,\n",
       " 'readability_score': 85.158,\n",
       " 'summary_sentences': [{'rating': -1,\n",
       "   'text': 'WITHDRAWING YOUR CONSENTThe <mark class=\"entity\" style=\"background: #ffffb3; padding: 0.2em 0.2em; line-height: 1; border-radius: 0.35em; box-decoration-break: clone; -webkit-box-decoration-break: clone\">consent</mark> that you <mark class=\"entity\" style=\"background: #ffffb3; padding: 0.2em 0.2em; line-height: 1; border-radius: 0.35em; box-decoration-break: clone; -webkit-box-decoration-break: clone\">provide</mark> for the <mark class=\"entity\" style=\"background: #ffffb3; padding: 0.2em 0.2em; line-height: 1; border-radius: 0.35em; box-decoration-break: clone; -webkit-box-decoration-break: clone\">collection</mark>, use and <mark class=\"entity\" style=\"background: #ffffb3; padding: 0.2em 0.2em; line-height: 1; border-radius: 0.35em; box-decoration-break: clone; -webkit-box-decoration-break: clone\">disclosure</mark> of your <mark class=\"entity\" style=\"background: #b3d9ff; padding: 0.2em 0.2em;; line-height: 1; border-radius: 0.35em; box-decoration-break: clone; -webkit-box-decoration-break: clone\">personal data</mark> will <mark class=\"entity\" style=\"background: #ffffb3; padding: 0.2em 0.2em; line-height: 1; border-radius: 0.35em; box-decoration-break: clone; -webkit-box-decoration-break: clone\">remain</mark> valid until such time it is being withdrawn by you in writing. '},\n",
       "  {'rating': -1,\n",
       "   'text': 'If so, we will <mark class=\"entity\" style=\"background: #ffffb3; padding: 0.2em 0.2em; line-height: 1; border-radius: 0.35em; box-decoration-break: clone; -webkit-box-decoration-break: clone\">inform</mark> you of the fee before processing your request. '},\n",
       "  {'rating': 0,\n",
       "   'text': 'We will respond to your request as soon as reasonably possible. '},\n",
       "  {'rating': -1,\n",
       "   'text': 'Should we not be able to respond to your request within thirty( 30) days after receiving your request, we will <mark class=\"entity\" style=\"background: #ffffb3; padding: 0.2em 0.2em; line-height: 1; border-radius: 0.35em; box-decoration-break: clone; -webkit-box-decoration-break: clone\">inform</mark> you in writing within thirty( 30) days of the time by which we will be able to respond to your request. '},\n",
       "  {'rating': 0,\n",
       "   'text': 'We will cease to retain your <mark class=\"entity\" style=\"background: #b3d9ff; padding: 0.2em 0.2em;; line-height: 1; border-radius: 0.35em; box-decoration-break: clone; -webkit-box-decoration-break: clone\">personal data</mark>, or remove the means by which the data can be associated with you, as soon as it is reasonable to assume that such retention no longer serves the purpose for which the <mark class=\"entity\" style=\"background: #b3d9ff; padding: 0.2em 0.2em;; line-height: 1; border-radius: 0.35em; box-decoration-break: clone; -webkit-box-decoration-break: clone\">personal data</mark> was collected, and is no longer necessary for legal or business purposes. '},\n",
       "  {'rating': -1,\n",
       "   'text': 'However, if we do so, we will <mark class=\"entity\" style=\"background: #ffffb3; padding: 0.2em 0.2em; line-height: 1; border-radius: 0.35em; box-decoration-break: clone; -webkit-box-decoration-break: clone\">obtain</mark> your <mark class=\"entity\" style=\"background: #ffffb3; padding: 0.2em 0.2em; line-height: 1; border-radius: 0.35em; box-decoration-break: clone; -webkit-box-decoration-break: clone\">consent</mark> for the transfer to be made and we will take steps to ensure that your <mark class=\"entity\" style=\"background: #b3d9ff; padding: 0.2em 0.2em;; line-height: 1; border-radius: 0.35em; box-decoration-break: clone; -webkit-box-decoration-break: clone\">personal data</mark> continues to receive a standard of protection that is at least comparable to that provided under the PDPA. '}]}"
      ]
     },
     "execution_count": 13,
     "metadata": {},
     "output_type": "execute_result"
    }
   ],
   "source": [
    "# Test API endpoint\n",
    "import requests\n",
    "link = \"https://hacknroll.nushackers.org/privacy\"\n",
    "r = requests.post(\"https://d12aodjr8sssf3.cloudfront.net/\", json={\"link\":link})\n",
    "r.json()"
   ]
  }
 ],
 "metadata": {
  "kernelspec": {
   "display_name": "Python 3",
   "language": "python",
   "name": "python3"
  },
  "language_info": {
   "codemirror_mode": {
    "name": "ipython",
    "version": 3
   },
   "file_extension": ".py",
   "mimetype": "text/x-python",
   "name": "python",
   "nbconvert_exporter": "python",
   "pygments_lexer": "ipython3",
   "version": "3.7.3"
  }
 },
 "nbformat": 4,
 "nbformat_minor": 2
}
